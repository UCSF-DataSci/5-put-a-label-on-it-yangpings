{
 "cells": [
  {
   "cell_type": "code",
   "id": "initial_id",
   "metadata": {
    "collapsed": true,
    "ExecuteTime": {
     "end_time": "2025-05-07T22:21:50.377105Z",
     "start_time": "2025-05-07T22:21:49.338726Z"
    }
   },
   "source": [
    "import pandas as pd\n",
    "import numpy as np\n",
    "import os\n",
    "from sklearn.model_selection import train_test_split\n",
    "from sklearn.ensemble import RandomForestClassifier\n",
    "import xgboost as xgb\n",
    "from sklearn.metrics import roc_auc_score\n",
    "from sklearn.impute import SimpleImputer"
   ],
   "outputs": [],
   "execution_count": 1
  },
  {
   "metadata": {
    "ExecuteTime": {
     "end_time": "2025-05-07T22:24:27.953010Z",
     "start_time": "2025-05-07T22:24:27.944739Z"
    }
   },
   "cell_type": "code",
   "source": [
    "def load_data(file_path):\n",
    "    \"\"\"\n",
    "    Load the synthetic health data from a CSV file.\n",
    "    \n",
    "    Args:\n",
    "        file_path: Path to the CSV file\n",
    "        \n",
    "    Returns:\n",
    "        DataFrame containing the data\n",
    "    \"\"\"\n",
    "    # YOUR CODE HERE\n",
    "    # Load the CSV file using pandas\n",
    "    path = file_path\n",
    "    df = pd.read_csv(\n",
    "            file_path,\n",
    "            parse_dates=[\"timestamp\"],   # parses the column to datetime dtype\n",
    "            infer_datetime_format=True)\n",
    "    return df"
   ],
   "id": "d4f48cb50a1713f6",
   "outputs": [],
   "execution_count": 2
  },
  {
   "metadata": {
    "ExecuteTime": {
     "end_time": "2025-05-07T22:24:29.547704Z",
     "start_time": "2025-05-07T22:24:29.543520Z"
    }
   },
   "cell_type": "code",
   "source": [
    "def extract_rolling_features(df, window_size_seconds):\n",
    "    \"\"\"\n",
    "    Calculate rolling mean and standard deviation for heart rate.\n",
    "    \n",
    "    Args:\n",
    "        df: DataFrame with timestamp and heart_rate columns\n",
    "        window_size_seconds: Size of the rolling window in seconds\n",
    "        \n",
    "    Returns:\n",
    "        DataFrame with added hr_rolling_mean and hr_rolling_std columns\n",
    "    \"\"\"\n",
    "    # YOUR CODE HERE\n",
    "    # 1. Sort data by timestamp\n",
    "    df_sorted = df.sort_values('timestamp')\n",
    "    \n",
    "    # 2. Set timestamp as index (this allows time-based operations)\n",
    "    df_indexed = df_sorted.set_index('timestamp')\n",
    "    \n",
    "    # 3. Calculate rolling mean and standard deviation\n",
    "    #    - First, create a rolling window object based on time:\n",
    "    rolling_window = df_indexed['heart_rate'].rolling(window=f'{window_size_seconds}s')\n",
    "    #    - Then calculate statistics on this window:\n",
    "    hr_mean = rolling_window.mean()\n",
    "    hr_std = rolling_window.std()\n",
    "    \n",
    "    # 4. Add the new columns back to the dataframe\n",
    "    df_indexed['hr_rolling_mean'] = hr_mean\n",
    "    df_indexed['hr_rolling_std'] = hr_std\n",
    "    \n",
    "    # 5. Reset index to bring timestamp back as a column\n",
    "    df_result = df_indexed.reset_index()\n",
    "    \n",
    "    # 6. Handle any NaN values (rolling calculations create NaNs at the beginning)\n",
    "    #    - You can use fillna, dropna, or other methods depending on your strategy\n",
    "    df_result = df_result.fillna(method='bfill')  # Example: backward fill\n",
    "    \n",
    "    # Placeholder return - replace with your implementation\n",
    "    return df_result"
   ],
   "id": "8d28ad3091e11e3c",
   "outputs": [],
   "execution_count": 3
  },
  {
   "metadata": {
    "ExecuteTime": {
     "end_time": "2025-05-07T22:38:50.217776Z",
     "start_time": "2025-05-07T22:38:50.211358Z"
    }
   },
   "cell_type": "code",
   "source": [
    "def prepare_data_part2(df_with_features, test_size=0.2, random_state=42):\n",
    "    \"\"\"\n",
    "    Prepare data for modeling with time-series features.\n",
    "    \n",
    "    Args:\n",
    "        df_with_features: DataFrame with original and rolling features\n",
    "        test_size: Proportion of data for testing\n",
    "        random_state: Random seed for reproducibility\n",
    "        \n",
    "    Returns:\n",
    "        X_train, X_test, y_train, y_test\n",
    "    \"\"\"\n",
    "    # YOUR CODE HERE\n",
    "    # 1. Select relevant features including the rolling features\n",
    "    # 2. Select target variable (disease_outcome)\n",
    "    # 3. Split data into training and testing sets\n",
    "    # 4. Handle missing values\n",
    "\n",
    "    feature_cols = [\n",
    "        col for col in df_with_features.columns\n",
    "        if col not in (\"timestamp\", \"disease_outcome\")\n",
    "        and pd.api.types.is_numeric_dtype(df_with_features[col])   # NEW\n",
    "    ]\n",
    "\n",
    "    X = df_with_features[feature_cols]\n",
    "    y = df_with_features[\"disease_outcome\"]\n",
    "\n",
    "    split_idx = int(len(df_with_features) * (1 - test_size))\n",
    "    X_train, X_test = X.iloc[:split_idx], X.iloc[split_idx:]\n",
    "    y_train, y_test = y.iloc[:split_idx], y.iloc[split_idx:]\n",
    "\n",
    "    imputer = SimpleImputer(strategy=\"median\")\n",
    "    X_train = pd.DataFrame(imputer.fit_transform(X_train),\n",
    "                           index=X_train.index, columns=X_train.columns)\n",
    "    X_test  = pd.DataFrame(imputer.transform(X_test),\n",
    "                           index=X_test.index, columns=X_test.columns)\n",
    "\n",
    "    return X_train, X_test, y_train, y_test"
   ],
   "id": "58101652078ab1c6",
   "outputs": [],
   "execution_count": 13
  },
  {
   "metadata": {
    "ExecuteTime": {
     "end_time": "2025-05-07T22:27:09.661120Z",
     "start_time": "2025-05-07T22:27:09.657122Z"
    }
   },
   "cell_type": "code",
   "source": [
    "def train_random_forest(X_train, y_train, n_estimators=100, max_depth=10, random_state=42):\n",
    "    \"\"\"\n",
    "    Train a Random Forest classifier.\n",
    "    \n",
    "    Args:\n",
    "        X_train: Training features\n",
    "        y_train: Training target\n",
    "        n_estimators: Number of trees in the forest\n",
    "        max_depth: Maximum depth of the trees\n",
    "        random_state: Random seed for reproducibility\n",
    "        \n",
    "    Returns:\n",
    "        Trained Random Forest model\n",
    "    \"\"\"\n",
    "    # Initialize the classifier\n",
    "    rf = RandomForestClassifier(\n",
    "        n_estimators=n_estimators,\n",
    "        max_depth=max_depth,\n",
    "        n_jobs=-1,           # utilize all CPU cores\n",
    "        random_state=random_state,\n",
    "        class_weight=\"balanced\"  # handles class imbalance automatically\n",
    "    )\n",
    "\n",
    "    # Fit to data\n",
    "    rf.fit(X_train, y_train)\n",
    "\n",
    "    return rf"
   ],
   "id": "2c1bfa41c8a5abe5",
   "outputs": [],
   "execution_count": 5
  },
  {
   "metadata": {
    "ExecuteTime": {
     "end_time": "2025-05-07T22:40:12.274655Z",
     "start_time": "2025-05-07T22:40:12.268655Z"
    }
   },
   "cell_type": "code",
   "source": [
    "def train_xgboost(X_train, y_train, n_estimators=100, learning_rate=0.1, max_depth=5, random_state=42):\n",
    "    \"\"\"\n",
    "    Train an XGBoost classifier.\n",
    "    \n",
    "    Args:\n",
    "        X_train: Training features\n",
    "        y_train: Training target\n",
    "        n_estimators: Number of boosting rounds\n",
    "        learning_rate: Boosting learning rate\n",
    "        max_depth: Maximum depth of a tree\n",
    "        random_state: Random seed for reproducibility\n",
    "        \n",
    "    Returns:\n",
    "        Trained XGBoost model\n",
    "    \"\"\"\n",
    "    # YOUR CODE HERE\n",
    "    # Initialize the classifier\n",
    "    xgb_clf = xgb.XGBClassifier(\n",
    "        n_estimators=n_estimators,\n",
    "        learning_rate=learning_rate,\n",
    "        max_depth=max_depth,\n",
    "        subsample=0.8,            # stochastic training for robustness\n",
    "        colsample_bytree=0.8,     # feature subsampling per tree\n",
    "        objective=\"binary:logistic\",  # adjust if multi-class\n",
    "        eval_metric=\"logloss\",    # safe default; change to \"auc\" if desired\n",
    "        n_jobs=-1,                # parallel training\n",
    "        random_state=random_state,\n",
    "        reg_lambda=1.0,           # L2 regularization (default)\n",
    "        tree_method=\"hist\"        # fast histogram-based grower\n",
    "    )\n",
    "\n",
    "    # Fit the model\n",
    "    xgb_clf.fit(X_train, y_train)\n",
    "\n",
    "    return xgb_clf"
   ],
   "id": "570ddf361dbad54d",
   "outputs": [],
   "execution_count": 15
  },
  {
   "metadata": {
    "ExecuteTime": {
     "end_time": "2025-05-07T22:32:41.030071Z",
     "start_time": "2025-05-07T22:32:41.026185Z"
    }
   },
   "cell_type": "code",
   "source": [
    "# YOUR CODE HERE\n",
    "# 1. Generate probability predictions for both models\n",
    "# 2. Calculate AUC scores\n",
    "# 3. Compare the performance\n",
    "def evaluate_models(models: dict, X_test, y_test):\n",
    "    print(\"---- ROC-AUC comparison ----\")\n",
    "    for name, mdl in models.items():\n",
    "        probs = mdl.predict_proba(X_test)[:, 1]\n",
    "        auc   = roc_auc_score(y_test, probs)\n",
    "        print(f\"{name:14s}: {auc:.4f}\")\n",
    "    print(\"----------------------------\")"
   ],
   "id": "2867749a7a19b7f9",
   "outputs": [],
   "execution_count": 7
  },
  {
   "metadata": {
    "ExecuteTime": {
     "end_time": "2025-05-07T22:43:10.097833Z",
     "start_time": "2025-05-07T22:43:10.093917Z"
    }
   },
   "cell_type": "code",
   "source": [
    "# YOUR CODE HERE\n",
    "# 1. Create 'results' directory if it doesn't exist\n",
    "# 2. Format AUC scores as strings\n",
    "# 3. Write scores to 'results/results_part2.txt'\n",
    "def save_to_file(rf_auc,xgb_auc):\n",
    "    os.makedirs(\"results\", exist_ok=True)\n",
    "    rf_auc_str  = f\"Random Forest ROC-AUC: {rf_auc:.4f}\"\n",
    "    xgb_auc_str = f\"XGBoost ROC-AUC:      {xgb_auc:.4f}\"\n",
    "    with open(\"results/results_part2.txt\", \"w\") as f:\n",
    "        f.write(rf_auc_str + \"\\n\")\n",
    "        f.write(xgb_auc_str + \"\\n\")\n",
    "\n",
    "    print(\"Saved AUC scores to results/results_part2.txt\")"
   ],
   "id": "bf8fac0aa5c1d2f4",
   "outputs": [],
   "execution_count": 18
  },
  {
   "metadata": {
    "ExecuteTime": {
     "end_time": "2025-05-07T22:43:14.903237Z",
     "start_time": "2025-05-07T22:43:14.630194Z"
    }
   },
   "cell_type": "code",
   "source": [
    "# Main execution\n",
    "if __name__ == \"__main__\":\n",
    "    # 1. Load data\n",
    "    data_file = 'data//synthetic_health_data.csv'\n",
    "    df = load_data(data_file)\n",
    "    \n",
    "    # 2. Extract rolling features\n",
    "    window_size = 300  # 5 minutes in seconds\n",
    "    df_with_features = extract_rolling_features(df, window_size)\n",
    "    \n",
    "    # 3. Prepare data\n",
    "    X_train, X_test, y_train, y_test = prepare_data_part2(df_with_features)\n",
    "    \n",
    "    # 4. Train models\n",
    "    rf_model = train_random_forest(X_train, y_train)\n",
    "    xgb_model = train_xgboost(X_train, y_train)\n",
    "    \n",
    "    # 5. Calculate AUC scores\n",
    "    rf_probs = rf_model.predict_proba(X_test)[:, 1]\n",
    "    xgb_probs = xgb_model.predict_proba(X_test)[:, 1]\n",
    "    \n",
    "    rf_auc = roc_auc_score(y_test, rf_probs)\n",
    "    xgb_auc = roc_auc_score(y_test, xgb_probs)\n",
    "    \n",
    "    print(f\"Random Forest AUC: {rf_auc:.4f}\")\n",
    "    print(f\"XGBoost AUC: {xgb_auc:.4f}\")\n",
    "    \n",
    "    # 6. Save results\n",
    "    save_to_file(rf_auc,xgb_auc)"
   ],
   "id": "25f439be35fdfd40",
   "outputs": [
    {
     "name": "stderr",
     "output_type": "stream",
     "text": [
      "C:\\Users\\ericy\\AppData\\Local\\Temp\\ipykernel_36248\\3215795810.py:14: FutureWarning: The argument 'infer_datetime_format' is deprecated and will be removed in a future version. A strict version of it is now the default, see https://pandas.pydata.org/pdeps/0004-consistent-to-datetime-parsing.html. You can safely remove this argument.\n",
      "  df = pd.read_csv(\n",
      "C:\\Users\\ericy\\AppData\\Local\\Temp\\ipykernel_36248\\3613955930.py:35: FutureWarning: DataFrame.fillna with 'method' is deprecated and will raise in a future version. Use obj.ffill() or obj.bfill() instead.\n",
      "  df_result = df_result.fillna(method='bfill')  # Example: backward fill\n"
     ]
    },
    {
     "name": "stdout",
     "output_type": "stream",
     "text": [
      "Random Forest AUC: 0.9847\n",
      "XGBoost AUC: 0.9998\n",
      "Saved AUC scores to results/results_part2.txt\n"
     ]
    }
   ],
   "execution_count": 19
  }
 ],
 "metadata": {
  "kernelspec": {
   "display_name": "Python 3",
   "language": "python",
   "name": "python3"
  },
  "language_info": {
   "codemirror_mode": {
    "name": "ipython",
    "version": 2
   },
   "file_extension": ".py",
   "mimetype": "text/x-python",
   "name": "python",
   "nbconvert_exporter": "python",
   "pygments_lexer": "ipython2",
   "version": "2.7.6"
  }
 },
 "nbformat": 4,
 "nbformat_minor": 5
}
